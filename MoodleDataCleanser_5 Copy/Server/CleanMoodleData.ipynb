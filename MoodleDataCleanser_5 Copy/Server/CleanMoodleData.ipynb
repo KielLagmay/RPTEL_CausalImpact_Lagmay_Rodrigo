{
 "cells": [
  {
   "cell_type": "code",
   "execution_count": null,
   "metadata": {},
   "outputs": [],
   "source": [
    "import pandas as pd\n",
    "import dateutil"
   ]
  },
  {
   "cell_type": "code",
   "execution_count": null,
   "metadata": {},
   "outputs": [],
   "source": [
    "def getUserList():\n",
    "    userTypes = ['AS_STUDENT', 'AS_TEACHERS', 'AS_NON-EDITING-TEACHERS']\n",
    "    userDF = pd.DataFrame()\n",
    "    for userType in userTypes:\n",
    "        userTypeDF = pd.read_csv(userType + '.csv')\n",
    "        userTypeDF['User Type'] = userType\n",
    "        userDF = userDF.append(userTypeDF, ignore_index=True, sort=False)\n",
    "    \n",
    "    return userDF"
   ]
  },
  {
   "cell_type": "code",
   "execution_count": null,
   "metadata": {},
   "outputs": [],
   "source": [
    "def extractDate(timestamp):\n",
    "    return timestamp.date()"
   ]
  },
  {
   "cell_type": "code",
   "execution_count": null,
   "metadata": {},
   "outputs": [],
   "source": [
    "def removePeriod(phrase):\n",
    "    return phrase.strip('..')"
   ]
  },
  {
   "cell_type": "code",
   "execution_count": null,
   "metadata": {},
   "outputs": [],
   "source": [
    "def causalImpactPreprocessingMoodle(df):\n",
    "    df = pd.merge(df, getUserList(), left_on='User full name', right_on='id')\n",
    "    df.drop(['Affected user', 'Event context', 'Component', 'Origin', 'IP address', 'Description', 'User full name', 'id'], inplace = True, axis = 1)\n",
    "    df['Event name'] = df['Event name'].apply(removePeriod)\n",
    "    df['Time'] = df['Time'].apply(dateutil.parser.parse, dayfirst=False)\n",
    "    df['Date'] = df['Time'].apply(extractDate)\n",
    "    dfAgg = df.groupby(['Date', 'User Type', 'Event name'])['Time'].count()\n",
    "    return dfAgg.to_frame(name = 'Total').reset_index()"
   ]
  },
  {
   "cell_type": "code",
   "execution_count": null,
   "metadata": {},
   "outputs": [],
   "source": [
    "def causalImpactPreprocessingMoodleAllLogs(df):\n",
    "    df = pd.merge(df, getUserList(), left_on='User full name', right_on='id')\n",
    "    df.drop(['Affected user', 'Event context', 'Component', 'Origin', 'IP address', 'Description', 'User full name', 'id', 'Event name'], inplace = True, axis = 1)\n",
    "    df['Time'] = df['Time'].apply(dateutil.parser.parse, dayfirst=False)\n",
    "    df['Date'] = df['Time'].apply(extractDate)\n",
    "    dfAgg = df.groupby(['Date', 'User Type'])['Time'].count()\n",
    "    return dfAgg.to_frame(name = 'Total').reset_index()"
   ]
  },
  {
   "cell_type": "code",
   "execution_count": null,
   "metadata": {},
   "outputs": [],
   "source": [
    "def causalImpactPreprocessingMoodleUniqueLogIns(df):\n",
    "    df = pd.merge(df, getUserList(), left_on='User full name', right_on='id')\n",
    "    df.drop(['Affected user', 'Event context', 'Component', 'Origin', 'IP address', 'Description', 'User full name'], inplace = True, axis = 1)\n",
    "    df['Event name'] = df['Event name'].apply(removePeriod)\n",
    "    df = pd.DataFrame(df.loc[df['Event name'] == 'User has logged in']).reset_index()\n",
    "    df.drop(['index', 'Event name'], inplace = True, axis = 1)\n",
    "    df['Time'] = df['Time'].apply(dateutil.parser.parse, dayfirst=False)\n",
    "    df['Date'] = df['Time'].apply(extractDate)\n",
    "    dfAgg = df.groupby(['Date', 'User Type', 'id'])['Time'].count()\n",
    "    df = dfAgg.to_frame(name = 'Total').reset_index()\n",
    "    df.drop(['id'], inplace = True, axis = 1)\n",
    "    dfAgg = df.groupby(['Date', 'User Type'])['Total'].count()\n",
    "    return dfAgg.to_frame(name = 'Total').reset_index()"
   ]
  },
  {
   "cell_type": "code",
   "execution_count": null,
   "metadata": {},
   "outputs": [],
   "source": [
    "def causalImpactPreprocessingMoodleComponent(df):\n",
    "    df = pd.merge(df, getUserList(), left_on='User full name', right_on='id')\n",
    "    df.drop(['Affected user', 'Event context', 'Origin', 'IP address', 'Description', 'User full name', 'id'], inplace = True, axis = 1)\n",
    "    df['Event name'] = df['Event name'].apply(removePeriod)\n",
    "    df['Time'] = df['Time'].apply(dateutil.parser.parse, dayfirst=False)\n",
    "    df['Date'] = df['Time'].apply(extractDate)\n",
    "    dfAgg = df.groupby(['Date', 'User Type', 'Component', 'Event name'])['Time'].count()\n",
    "    return dfAgg.to_frame(name = 'Total').reset_index()"
   ]
  },
  {
   "cell_type": "code",
   "execution_count": null,
   "metadata": {},
   "outputs": [],
   "source": [
    "def causalImpactPreprocessingMoodleComponentOnly(df):\n",
    "    df = pd.merge(df, getUserList(), left_on='User full name', right_on='id')\n",
    "    df.drop(['Affected user', 'Event context', 'Event name', 'Origin', 'IP address', 'Description', 'User full name', 'id'], inplace = True, axis = 1)\n",
    "    df['Time'] = df['Time'].apply(dateutil.parser.parse, dayfirst=False)\n",
    "    df['Date'] = df['Time'].apply(extractDate)\n",
    "    dfAgg = df.groupby(['Date', 'User Type', 'Component'])['Time'].count()\n",
    "    return dfAgg.to_frame(name = 'Total').reset_index()"
   ]
  },
  {
   "cell_type": "code",
   "execution_count": null,
   "metadata": {},
   "outputs": [],
   "source": [
    "def mapEventNameComponent(df):\n",
    "    df = pd.merge(df, getUserList(), left_on='User full name', right_on='id')\n",
    "    df.drop(['Time', 'Affected user', 'Event context', 'Origin', 'IP address', 'Description', 'User full name', 'id'], inplace = True, axis = 1)\n",
    "    dfAgg = df.groupby(['Component', 'Event name'])['User Type'].count()\n",
    "    return dfAgg.to_frame(name = 'Total').reset_index()"
   ]
  }
 ],
 "metadata": {
  "kernelspec": {
   "display_name": "Python 3",
   "language": "python",
   "name": "python3"
  },
  "language_info": {
   "codemirror_mode": {
    "name": "ipython",
    "version": 3
   },
   "file_extension": ".py",
   "mimetype": "text/x-python",
   "name": "python",
   "nbconvert_exporter": "python",
   "pygments_lexer": "ipython3",
   "version": "3.8.5"
  }
 },
 "nbformat": 4,
 "nbformat_minor": 4
}
