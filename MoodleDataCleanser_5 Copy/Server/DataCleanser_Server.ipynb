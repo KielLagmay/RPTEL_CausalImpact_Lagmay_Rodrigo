{
 "cells": [
  {
   "cell_type": "code",
   "execution_count": 1,
   "metadata": {},
   "outputs": [
    {
     "data": {
      "text/plain": [
       "'\\nSources:\\nhttps://pyro4.readthedocs.io/en/stable/tutorials.html\\nhttps://stackoverflow.com/questions/3207219/how-do-i-list-all-files-of-a-directory\\nhttps://stackoverflow.com/questions/49153835/transfer-files-with-python-2-7-pyro4-unicodeencodeerror\\nhttps://stackoverflow.com/questions/41498568/typeerror-a-bytes-like-object-is-required-not-dict\\nhttps://www.shanelynn.ie/summarising-aggregation-and-grouping-data-in-python-pandas/\\nhttps://stackoverflow.com/questions/29517072/add-column-to-dataframe-with-constant-value\\nhttps://pandas.pydata.org/pandas-docs/stable/user_guide/merging.html\\nhttps://stackoverflow.com/questions/15943769/how-do-i-get-the-row-count-of-a-pandas-dataframe\\nhttps://www.geeksforgeeks.org/how-to-create-an-empty-dataframe-and-append-rows-columns-to-it-in-pandas/\\nhttps://www.shanelynn.ie/summarising-aggregation-and-grouping-data-in-python-pandas/\\nhttps://stackoverflow.com/questions/33834727/how-do-you-extract-only-the-date-from-a-python-datetime\\nhttps://note.nkmk.me/en/python-pandas-dataframe-rename/#:~:text=source%3A%20pandas_dataframe_rename.py-,Rename%20column%20%2F%20index%3A%20rename(),change%20column%20%2F%20index%20name%20individually.&text=Specify%20the%20original%20name%20and,index%20is%20for%20index%20name.\\nhttps://stackoverflow.com/questions/44781633/join-pandas-dataframes-based-on-column-values\\nhttps://pandas.pydata.org/pandas-docs/stable/reference/api/pandas.DataFrame.join.html\\nhttp://www.martinbroadhurst.com/listing-all-files-in-a-directory-with-a-certain-extension-in-python.html\\nhttps://www.geeksforgeeks.org/sort-rows-or-columns-in-pandas-dataframe-based-on-values/\\nhttps://pandas.pydata.org/pandas-docs/stable/reference/api/pandas.DataFrame.to_csv.html\\nhttps://stackabuse.com/how-to-format-dates-in-python/\\nhttps://www.w3schools.com/python/python_datetime.asp\\nhttps://dateutil.readthedocs.io/en/stable/parser.html\\nhttps://www.w3schools.com/python/python_datetime.asp\\nhttps://stackoverflow.com/questions/4271740/how-can-i-use-python-to-get-the-system-hostname\\nhttps://dateutil.readthedocs.io/en/stable/parser.html\\nhttps://exlskills.com/learn-en/courses/methods-in-python-methods_in_python/strings-in-python-KCOAaTVSmiXw/strings-sMfsjRSCcxzr/replace-and-strip-FIuqOZpyotQS\\nhttps://pandas.pydata.org/pandas-docs/stable/reference/api/pandas.DataFrame.to_csv.html\\nhttps://www.programiz.com/python-programming/methods/list/pop\\nhttps://pandas.pydata.org/pandas-docs/stable/user_guide/io.html\\nhttps://stackoverflow.com/questions/17071871/how-to-select-rows-from-a-dataframe-based-on-column-values\\nhttps://chrisalbon.com/python/data_wrangling/pandas_list_unique_values_in_column/\\nhttps://www.kite.com/python/answers/how-to-find-the-intersection-of-two-lists-in-python#:~:text=Use%20set.,list%20using%20list(iterable)%20.\\nhttps://pyro5.readthedocs.io/en/latest/api/api.html\\nhttps://pyro5.readthedocs.io/en/latest/api/client.html\\nhttps://pyro5.readthedocs.io/en/latest/api/errors.html\\nhttps://github.com/irmen/Pyro5/issues/20\\n'"
      ]
     },
     "execution_count": 1,
     "metadata": {},
     "output_type": "execute_result"
    }
   ],
   "source": [
    "'''\n",
    "Sources:\n",
    "https://pyro4.readthedocs.io/en/stable/tutorials.html\n",
    "https://stackoverflow.com/questions/3207219/how-do-i-list-all-files-of-a-directory\n",
    "https://stackoverflow.com/questions/49153835/transfer-files-with-python-2-7-pyro4-unicodeencodeerror\n",
    "https://stackoverflow.com/questions/41498568/typeerror-a-bytes-like-object-is-required-not-dict\n",
    "https://www.shanelynn.ie/summarising-aggregation-and-grouping-data-in-python-pandas/\n",
    "https://stackoverflow.com/questions/29517072/add-column-to-dataframe-with-constant-value\n",
    "https://pandas.pydata.org/pandas-docs/stable/user_guide/merging.html\n",
    "https://stackoverflow.com/questions/15943769/how-do-i-get-the-row-count-of-a-pandas-dataframe\n",
    "https://www.geeksforgeeks.org/how-to-create-an-empty-dataframe-and-append-rows-columns-to-it-in-pandas/\n",
    "https://www.shanelynn.ie/summarising-aggregation-and-grouping-data-in-python-pandas/\n",
    "https://stackoverflow.com/questions/33834727/how-do-you-extract-only-the-date-from-a-python-datetime\n",
    "https://note.nkmk.me/en/python-pandas-dataframe-rename/#:~:text=source%3A%20pandas_dataframe_rename.py-,Rename%20column%20%2F%20index%3A%20rename(),change%20column%20%2F%20index%20name%20individually.&text=Specify%20the%20original%20name%20and,index%20is%20for%20index%20name.\n",
    "https://stackoverflow.com/questions/44781633/join-pandas-dataframes-based-on-column-values\n",
    "https://pandas.pydata.org/pandas-docs/stable/reference/api/pandas.DataFrame.join.html\n",
    "http://www.martinbroadhurst.com/listing-all-files-in-a-directory-with-a-certain-extension-in-python.html\n",
    "https://www.geeksforgeeks.org/sort-rows-or-columns-in-pandas-dataframe-based-on-values/\n",
    "https://pandas.pydata.org/pandas-docs/stable/reference/api/pandas.DataFrame.to_csv.html\n",
    "https://stackabuse.com/how-to-format-dates-in-python/\n",
    "https://www.w3schools.com/python/python_datetime.asp\n",
    "https://dateutil.readthedocs.io/en/stable/parser.html\n",
    "https://www.w3schools.com/python/python_datetime.asp\n",
    "https://stackoverflow.com/questions/4271740/how-can-i-use-python-to-get-the-system-hostname\n",
    "https://dateutil.readthedocs.io/en/stable/parser.html\n",
    "https://exlskills.com/learn-en/courses/methods-in-python-methods_in_python/strings-in-python-KCOAaTVSmiXw/strings-sMfsjRSCcxzr/replace-and-strip-FIuqOZpyotQS\n",
    "https://pandas.pydata.org/pandas-docs/stable/reference/api/pandas.DataFrame.to_csv.html\n",
    "https://www.programiz.com/python-programming/methods/list/pop\n",
    "https://pandas.pydata.org/pandas-docs/stable/user_guide/io.html\n",
    "https://stackoverflow.com/questions/17071871/how-to-select-rows-from-a-dataframe-based-on-column-values\n",
    "https://chrisalbon.com/python/data_wrangling/pandas_list_unique_values_in_column/\n",
    "https://www.kite.com/python/answers/how-to-find-the-intersection-of-two-lists-in-python#:~:text=Use%20set.,list%20using%20list(iterable)%20.\n",
    "https://pyro5.readthedocs.io/en/latest/api/api.html\n",
    "https://pyro5.readthedocs.io/en/latest/api/client.html\n",
    "https://pyro5.readthedocs.io/en/latest/api/errors.html\n",
    "https://github.com/irmen/Pyro5/issues/20\n",
    "'''"
   ]
  },
  {
   "cell_type": "code",
   "execution_count": 2,
   "metadata": {},
   "outputs": [
    {
     "name": "stdout",
     "output_type": "stream",
     "text": [
      "importing Jupyter notebook from CleanMoodleData.ipynb\n",
      "importing Jupyter notebook from DataWarehouse.ipynb\n"
     ]
    }
   ],
   "source": [
    "import time\n",
    "import import_ipynb\n",
    "import CleanMoodleData\n",
    "from DataWarehouse import openDataWarehouse"
   ]
  },
  {
   "cell_type": "code",
   "execution_count": 3,
   "metadata": {},
   "outputs": [
    {
     "name": "stdout",
     "output_type": "stream",
     "text": [
      "Enter the filepath of the folder containing the data: C:\\Users\\ezeki\\Downloads\\moodle_logs_AY-2020-2021_Intercession\n",
      "Enter the name of output .csv file: tester\n",
      "Data cleansing for Moodle data CSV files in C:\\Users\\ezeki\\Downloads\\moodle_logs_AY-2020-2021_Intercession is complete. Please turn off the nameserver (the terminal window where you launched the ServerStarter script).\n",
      "Time Taken: 89.29100251197815\n"
     ]
    }
   ],
   "source": [
    "if __name__ == \"__main__\":\n",
    "    dirpath = str(input('Enter the filepath of the folder containing the data: '))\n",
    "    outfile = str(input('Enter the name of output .csv file: '))\n",
    "    start = time.time()\n",
    "    #openDataWarehouse(dirpath, outfile, CleanMoodleData.causalImpactPreprocessingMoodle)\n",
    "    #openDataWarehouse(dirpath, outfile, CleanMoodleData.causalImpactPreprocessingMoodleAllLogs)\n",
    "    #openDataWarehouse(dirpath, outfile, CleanMoodleData.causalImpactPreprocessingMoodleUniqueLogIns)\n",
    "    #openDataWarehouse(dirpath, outfile, CleanMoodleData.causalImpactPreprocessingMoodleComponent)\n",
    "    openDataWarehouse(dirpath, outfile, CleanMoodleData.causalImpactPreprocessingMoodleComponentOnly)\n",
    "    #openDataWarehouse(dirpath, outfile, CleanMoodleData.mapEventNameComponent)\n",
    "    end = time.time()\n",
    "    print(\"Data cleansing for Moodle data CSV files in \" + dirpath + \" is complete. Please turn off the nameserver (the terminal window where you launched the ServerStarter script).\")\n",
    "    print(\"Time Taken: \" + str(end - start) + \"s\")"
   ]
  }
 ],
 "metadata": {
  "kernelspec": {
   "display_name": "Python 3",
   "language": "python",
   "name": "python3"
  },
  "language_info": {
   "codemirror_mode": {
    "name": "ipython",
    "version": 3
   },
   "file_extension": ".py",
   "mimetype": "text/x-python",
   "name": "python",
   "nbconvert_exporter": "python",
   "pygments_lexer": "ipython3",
   "version": "3.8.5"
  }
 },
 "nbformat": 4,
 "nbformat_minor": 4
}
