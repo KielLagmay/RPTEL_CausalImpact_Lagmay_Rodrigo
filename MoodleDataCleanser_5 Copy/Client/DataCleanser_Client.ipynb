{
 "cells": [
  {
   "cell_type": "code",
   "execution_count": 1,
   "metadata": {},
   "outputs": [
    {
     "data": {
      "text/plain": [
       "'\\nSources:\\nhttps://pyro4.readthedocs.io/en/stable/tutorials.html\\nhttps://stackoverflow.com/questions/3207219/how-do-i-list-all-files-of-a-directory\\nhttps://stackoverflow.com/questions/13411544/delete-column-from-pandas-dataframe\\nhttps://stackoverflow.com/questions/33742588/pandas-split-dataframe-by-column-value\\nhttps://stackoverflow.com/questions/45759966/counting-unique-values-in-a-column-in-pandas-dataframe-like-in-qlik/45760042\\nhttps://chrisalbon.com/python/data_wrangling/pandas_list_unique_values_in_column/\\nhttps://pandas.pydata.org/pandas-docs/stable/reference/api/pandas.DataFrame.to_csv.html\\nhttps://www.guru99.com/python-check-if-file-exists.html\\nhttps://pandas.pydata.org/pandas-docs/stable/reference/api/pandas.read_csv.html\\n'"
      ]
     },
     "execution_count": 1,
     "metadata": {},
     "output_type": "execute_result"
    }
   ],
   "source": [
    "'''\n",
    "Sources:\n",
    "https://pyro4.readthedocs.io/en/stable/tutorials.html\n",
    "https://stackoverflow.com/questions/3207219/how-do-i-list-all-files-of-a-directory\n",
    "https://stackoverflow.com/questions/13411544/delete-column-from-pandas-dataframe\n",
    "https://stackoverflow.com/questions/33742588/pandas-split-dataframe-by-column-value\n",
    "https://stackoverflow.com/questions/45759966/counting-unique-values-in-a-column-in-pandas-dataframe-like-in-qlik/45760042\n",
    "https://chrisalbon.com/python/data_wrangling/pandas_list_unique_values_in_column/\n",
    "https://pandas.pydata.org/pandas-docs/stable/reference/api/pandas.DataFrame.to_csv.html\n",
    "https://www.guru99.com/python-check-if-file-exists.html\n",
    "https://pandas.pydata.org/pandas-docs/stable/reference/api/pandas.read_csv.html\n",
    "'''"
   ]
  },
  {
   "cell_type": "code",
   "execution_count": 2,
   "metadata": {},
   "outputs": [],
   "source": [
    "from DataAccessor import DataAccessor\n",
    "from Pyro5.api import locate_ns\n",
    "from Pyro5.client import Proxy\n",
    "from Pyro5.errors import excepthook as pyro5_excepthook\n",
    "import sys\n",
    "import multiprocessing as mp\n",
    "import socket"
   ]
  },
  {
   "cell_type": "code",
   "execution_count": 3,
   "metadata": {},
   "outputs": [
    {
     "name": "stdout",
     "output_type": "stream",
     "text": [
      "[{'MacBook-Pro.local_1': ['logs_20210108.csv', 'logs_20201227.csv', 'logs_20201215.csv', 'logs_20201203.csv', 'logs_20201122.csv', 'logs_20201111.csv', 'logs_20201027.csv', 'logs_20201013.csv', 'logs_20201001.csv', 'logs_20200919.csv']}, {'MacBook-Pro.local_2': ['logs_20210109.csv', 'logs_20201226.csv', 'logs_20201214.csv', 'logs_20201201.csv', 'logs_20201119.csv', 'logs_20201106.csv', 'logs_20201025.csv', 'logs_20201016.csv', 'logs_20201004.csv', 'logs_20200922.csv', 'logs_20200910.csv']}, {'MacBook-Pro.local_3': ['logs_20210106.csv', 'logs_20201225.csv', 'logs_20201213.csv', 'logs_20201202.csv', 'logs_20201120.csv', 'logs_20201107.csv', 'logs_20201029.csv', 'logs_20201017.csv', 'logs_20201005.csv', 'logs_20200923.csv', 'logs_20200911.csv']}, {'MacBook-Pro.local_4': ['logs_20210107.csv', 'logs_20201228.csv', 'logs_20201216.csv', 'logs_20201204.csv', 'logs_20201121.csv', 'logs_20201108.csv', 'logs_20201028.csv', 'logs_20201015.csv', 'logs_20201002.csv', 'logs_20200920.csv']}]\n"
     ]
    }
   ],
   "source": [
    "def find_datawarehouse():\n",
    "    nameserver = locate_ns()\n",
    "    datawarehouse_uri = nameserver.lookup(\"example.datawarehouse\")\n",
    "    return Proxy(datawarehouse_uri)\n",
    "\n",
    "if __name__ ==  '__main__':\n",
    "    sys.excepthook = pyro5_excepthook\n",
    "    \n",
    "    datawarehouse = None\n",
    "    connectionRefused = True\n",
    "    while(connectionRefused):\n",
    "        try:\n",
    "            datawarehouse = find_datawarehouse()\n",
    "            connectionRefused = False\n",
    "        except:\n",
    "            connectionRefused = True\n",
    "    \n",
    "    dataaccessor = DataAccessor(datawarehouse)\n",
    "    \n",
    "    workers = [str(socket.gethostname()) + \"_\" + str(i + 1) for i in range(0, mp.cpu_count())]\n",
    "    \n",
    "    pool = mp.Pool(mp.cpu_count())\n",
    "    execSummary = pool.map(dataaccessor.performDataCleansing, workers)\n",
    "    pool.close()\n",
    "    \n",
    "    print(str(execSummary))"
   ]
  }
 ],
 "metadata": {
  "kernelspec": {
   "display_name": "Python 3",
   "language": "python",
   "name": "python3"
  },
  "language_info": {
   "codemirror_mode": {
    "name": "ipython",
    "version": 3
   },
   "file_extension": ".py",
   "mimetype": "text/x-python",
   "name": "python",
   "nbconvert_exporter": "python",
   "pygments_lexer": "ipython3",
   "version": "3.8.5"
  }
 },
 "nbformat": 4,
 "nbformat_minor": 4
}
